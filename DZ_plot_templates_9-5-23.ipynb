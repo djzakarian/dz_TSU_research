{
 "cells": [
  {
   "cell_type": "markdown",
   "metadata": {},
   "source": [
    "---\n",
    "---\n",
    "# <span style=\"color:silver\">***Daphne's Kepler Toolbox***</span>\n",
    "<span style=\"color:silver\">*Plot a light curve, plot images, etc... !*</span>\n",
    "\n",
    "---\n",
    "---"
   ]
  },
  {
   "cell_type": "markdown",
   "metadata": {},
   "source": [
    "---\n",
    "# <span style=\"color:hotpink\">**1) Using Kepler Data to Plot a Light Curve**</span>\n",
    "\n",
    "<br>This notebook tutorial demonstrates the process of loading and extracting information from Kepler light curve FITS files to plot a light curve and display the photometric aperture. \n",
    "\n",
    "Source: https://spacetelescope.github.io/mast_notebooks/notebooks/Kepler/plotting_lightcurves/plotting_lightcurves.html\n",
    "\n"
   ]
  },
  {
   "cell_type": "markdown",
   "metadata": {},
   "source": [
    "Old Way:\n",
    "a) Find a Kepler object here: https://archive.stsci.edu/kepler/eclipsing_binaries.html\n",
    "\n",
    "b) You can download the files from this site: https://archive.stsci.edu/kepler/data_search/search.php \n",
    "\n",
    "**New Way: MAST astroquery to download files**\n"
   ]
  },
  {
   "cell_type": "markdown",
   "metadata": {},
   "source": [
    "## Introduction\n",
    "**Light curve background:** A light curve is a plot of flux versus time that shows the variability of light output from an object. This is one way to find planets periodically transitting a star. The light curves made here will plot the corrected and uncorrected fluxes from Kepler data of object KIC 11446443 (TRES-2).\n",
    "\n",
    "**Some notes about the file:** kplr_011446443-2009131110544_slc.fits\n",
    "The filename contains phrases for identification, where\n",
    "\n",
    "kplr = Kepler\n",
    "\n",
    "011446443 = Kepler ID number\n",
    "\n",
    "2009131110544 = year 2009, day 131, time 11:05:44\n",
    "\n",
    "slc = short cadence\n",
    "\n",
    "**Defining some terms:**\n",
    "\n",
    "Cadence: the frequency with which summed data are read out. Files are either short cadence (a 1 minute sum) or long cadence (a 30 minute sum).\n",
    "\n",
    "SAP Flux: Simple Aperture Photometry flux; flux after summing the calibrated pixels within the optimal aperture\n",
    "\n",
    "PDCSAP Flux: Pre-search Data Conditioned Simple Aperture Photometry; these are the flux values nominally corrected for instrumental variations.\n",
    "\n",
    "BJD: Barycentric Julian Day; this is the Julian Date that has been corrected for differences in the Earth’s position with respect to the Solar System Barycentre (center of mass of the Solar System).\n",
    "\n",
    "HDU: Header Data Unit; a FITS file is made up of Header or Data units that contain information, data, and metadata relating to the file. The first HDU is called the primary, and anything that follows is considered an extension.\n",
    "\n",
    "For more information about the Kepler mission and collected data, visit the Kepler archive page. To read more details about light curves and relevant data terms, look in the Kepler archive manual."
   ]
  },
  {
   "cell_type": "code",
   "execution_count": 12,
   "metadata": {},
   "outputs": [],
   "source": [
    "# Imports\n",
    "%matplotlib inline\n",
    "from astropy.io import fits\n",
    "from astropy.table import Table \n",
    "import matplotlib.pyplot as plt\n",
    "from astroquery.mast import Mast\n",
    "from astroquery.mast import Observations"
   ]
  },
  {
   "cell_type": "code",
   "execution_count": 13,
   "metadata": {},
   "outputs": [
    {
     "data": {
      "text/html": [
       "<div><i>Table masked=True length=1</i>\n",
       "<table id=\"table140018352517808\" class=\"table-striped table-bordered table-condensed\">\n",
       "<thead><tr><th>obsID</th><th>obs_collection</th><th>dataproduct_type</th><th>obs_id</th><th>description</th><th>type</th><th>dataURI</th><th>productType</th><th>productGroupDescription</th><th>productSubGroupDescription</th><th>productDocumentationURL</th><th>project</th><th>prvversion</th><th>proposal_id</th><th>productFilename</th><th>size</th><th>parent_obsid</th><th>dataRights</th><th>calib_level</th></tr></thead>\n",
       "<thead><tr><th>str6</th><th>str6</th><th>str10</th><th>str36</th><th>str60</th><th>str1</th><th>str110</th><th>str7</th><th>str28</th><th>str8</th><th>str1</th><th>str6</th><th>str1</th><th>str7</th><th>str44</th><th>int64</th><th>str6</th><th>str6</th><th>int64</th></tr></thead>\n",
       "<tr><td>601031</td><td>Kepler</td><td>timeseries</td><td>kplr011446443_sc_Q113313330333033302</td><td>Lightcurve Short Cadence (CSC) - Q0</td><td>C</td><td>mast:KEPLER/url/missions/kepler/lightcurves/0114/011446443/kplr011446443-2009131110544_slc.fits</td><td>SCIENCE</td><td>Minimum Recommended Products</td><td>SLC</td><td>--</td><td>Kepler</td><td>--</td><td>EX_STKS</td><td>kplr011446443-2009131110544_slc.fits</td><td>1457280</td><td>601031</td><td>PUBLIC</td><td>2</td></tr>\n",
       "</table></div>"
      ],
      "text/plain": [
       "<Table masked=True length=1>\n",
       "obsID  obs_collection dataproduct_type ... parent_obsid dataRights calib_level\n",
       " str6       str6           str10       ...     str6        str6       int64   \n",
       "------ -------------- ---------------- ... ------------ ---------- -----------\n",
       "601031         Kepler       timeseries ...       601031     PUBLIC           2"
      ]
     },
     "execution_count": 13,
     "metadata": {},
     "output_type": "execute_result"
    }
   ],
   "source": [
    "keplerObs = Observations.query_criteria(target_name='kplr011446443', obs_collection='Kepler')\n",
    "keplerProds = Observations.get_product_list(keplerObs[1])\n",
    "yourProd = Observations.filter_products(keplerProds, extension='kplr011446443-2009131110544_slc.fits', \n",
    "                                        mrp_only=False)\n",
    "yourProd"
   ]
  },
  {
   "cell_type": "markdown",
   "metadata": {},
   "source": [
    "#### Download results"
   ]
  },
  {
   "cell_type": "code",
   "execution_count": 14,
   "metadata": {},
   "outputs": [
    {
     "name": "stdout",
     "output_type": "stream",
     "text": [
      "Downloading URL https://mast.stsci.edu/api/v0.1/Download/file?uri=mast:KEPLER/url/missions/kepler/lightcurves/0114/011446443/kplr011446443-2009131110544_slc.fits to ./mastDownload/Kepler/kplr011446443_sc_Q113313330333033302/kplr011446443-2009131110544_slc.fits ... [Done]\n"
     ]
    },
    {
     "data": {
      "text/html": [
       "<div><i>Table length=1</i>\n",
       "<table id=\"table140017013177792\" class=\"table-striped table-bordered table-condensed\">\n",
       "<thead><tr><th>Local Path</th><th>Status</th><th>Message</th><th>URL</th></tr></thead>\n",
       "<thead><tr><th>str95</th><th>str8</th><th>object</th><th>object</th></tr></thead>\n",
       "<tr><td>./mastDownload/Kepler/kplr011446443_sc_Q113313330333033302/kplr011446443-2009131110544_slc.fits</td><td>COMPLETE</td><td>None</td><td>None</td></tr>\n",
       "</table></div>"
      ],
      "text/plain": [
       "<Table length=1>\n",
       "                                           Local Path                                           ...\n",
       "                                             str95                                              ...\n",
       "----------------------------------------------------------------------------------------------- ...\n",
       "./mastDownload/Kepler/kplr011446443_sc_Q113313330333033302/kplr011446443-2009131110544_slc.fits ..."
      ]
     },
     "execution_count": 14,
     "metadata": {},
     "output_type": "execute_result"
    }
   ],
   "source": [
    "Observations.download_products(yourProd, mrp_only = False, cache = False) \n"
   ]
  },
  {
   "cell_type": "markdown",
   "metadata": {},
   "source": [
    "## Reading FITS Extensions"
   ]
  },
  {
   "cell_type": "code",
   "execution_count": 15,
   "metadata": {},
   "outputs": [
    {
     "name": "stdout",
     "output_type": "stream",
     "text": [
      "Filename: ./mastDownload/Kepler/kplr011446443_sc_Q113313330333033302/kplr011446443-2009131110544_slc.fits\n",
      "No.    Name      Ver    Type      Cards   Dimensions   Format\n",
      "  0  PRIMARY       1 PrimaryHDU      58   ()      \n",
      "  1  LIGHTCURVE    1 BinTableHDU    155   14280R x 20C   [D, E, J, E, E, E, E, E, E, J, D, E, D, E, D, E, D, E, E, E]   \n",
      "  2  APERTURE      1 ImageHDU        48   (8, 9)   int32   \n"
     ]
    }
   ],
   "source": [
    "filename = \"./mastDownload/Kepler/kplr011446443_sc_Q113313330333033302/kplr011446443-2009131110544_slc.fits\"\n",
    "fits.info(filename)"
   ]
  },
  {
   "cell_type": "markdown",
   "metadata": {},
   "source": [
    "#### View info from header"
   ]
  },
  {
   "cell_type": "code",
   "execution_count": 16,
   "metadata": {},
   "outputs": [
    {
     "name": "stdout",
     "output_type": "stream",
     "text": [
      "XTENSION= 'BINTABLE'           / marks the beginning of a new HDU               \n",
      "BITPIX  =                    8 / array data type                                \n",
      "NAXIS   =                    2 / number of array dimensions                     \n",
      "NAXIS1  =                  100 / length of first array dimension                \n",
      "NAXIS2  =                14280 / length of second array dimension               \n",
      "PCOUNT  =                    0 / group parameter count (not used)               \n",
      "GCOUNT  =                    1 / group count (not used)                         \n",
      "TFIELDS =                   20 / number of table fields                         \n",
      "TTYPE1  = 'TIME    '           / column title: data time stamps                 \n",
      "TFORM1  = 'D       '           / column format: 64-bit floating point           \n",
      "TUNIT1  = 'BJD - 2454833'      / column units: barycenter corrected JD          \n",
      "TDISP1  = 'D14.7   '           / column display format                          \n",
      "TTYPE2  = 'TIMECORR'           / column title: barycenter - timeslice correction\n",
      "TFORM2  = 'E       '           / column format: 32-bit floating point           \n",
      "TUNIT2  = 'd       '           / column units: day                              \n",
      "TDISP2  = 'E13.6   '           / column display format                          \n",
      "TTYPE3  = 'CADENCENO'          / column title: unique cadence number            \n",
      "TFORM3  = 'J       '           / column format: signed 32-bit integer           \n",
      "TDISP3  = 'I10     '           / column display format                          \n",
      "TTYPE4  = 'SAP_FLUX'           / column title: aperture photometry flux         \n",
      "TFORM4  = 'E       '           / column format: 32-bit floating point           \n",
      "TUNIT4  = 'e-/s    '           / column units: electrons per second             \n",
      "TDISP4  = 'E14.7   '           / column display format                          \n",
      "TTYPE5  = 'SAP_FLUX_ERR'       / column title: aperture phot. flux error        \n"
     ]
    }
   ],
   "source": [
    "with fits.open(filename) as hdulist: \n",
    "    header1 = hdulist[1].header\n",
    "  \n",
    "print(repr(header1[0:24])) #repr() prints the info into neat columns"
   ]
  },
  {
   "cell_type": "markdown",
   "metadata": {},
   "source": [
    "#### View table of the data (flux and time columns)(only first few rows)"
   ]
  },
  {
   "cell_type": "code",
   "execution_count": 17,
   "metadata": {},
   "outputs": [
    {
     "data": {
      "text/html": [
       "<div><i>Table length=4</i>\n",
       "<table id=\"table140017014190720\" class=\"table-striped table-bordered table-condensed\">\n",
       "<thead><tr><th>TIME</th><th>TIMECORR</th><th>CADENCENO</th><th>SAP_FLUX</th><th>SAP_FLUX_ERR</th><th>SAP_BKG</th><th>SAP_BKG_ERR</th><th>PDCSAP_FLUX</th><th>PDCSAP_FLUX_ERR</th><th>SAP_QUALITY</th><th>PSF_CENTR1</th><th>PSF_CENTR1_ERR</th><th>PSF_CENTR2</th><th>PSF_CENTR2_ERR</th><th>MOM_CENTR1</th><th>MOM_CENTR1_ERR</th><th>MOM_CENTR2</th><th>MOM_CENTR2_ERR</th><th>POS_CORR1</th><th>POS_CORR2</th></tr></thead>\n",
       "<thead><tr><th>float64</th><th>float32</th><th>int32</th><th>float32</th><th>float32</th><th>float32</th><th>float32</th><th>float32</th><th>float32</th><th>int32</th><th>float64</th><th>float32</th><th>float64</th><th>float32</th><th>float64</th><th>float32</th><th>float64</th><th>float32</th><th>float32</th><th>float32</th></tr></thead>\n",
       "<tr><td>120.52992386784899</td><td>0.00096672785</td><td>5501</td><td>401288.16</td><td>91.51187</td><td>2598.1086</td><td>0.5752603</td><td>406100.9</td><td>127.528824</td><td>0</td><td>nan</td><td>nan</td><td>nan</td><td>nan</td><td>621.2181187542091</td><td>0.0002101067</td><td>848.8972881655714</td><td>0.00029125414</td><td>0.0002031729</td><td>-0.0025746305</td></tr>\n",
       "<tr><td>120.53060508973431</td><td>0.00096674974</td><td>5502</td><td>401425.53</td><td>91.53448</td><td>2598.0261</td><td>0.57525027</td><td>406242.22</td><td>125.212105</td><td>0</td><td>nan</td><td>nan</td><td>nan</td><td>nan</td><td>621.2190207168474</td><td>0.00021018942</td><td>848.8935790650855</td><td>0.0002912894</td><td>0.00021144762</td><td>-0.0025837936</td></tr>\n",
       "<tr><td>120.53128621167707</td><td>0.0009667717</td><td>5503</td><td>401172.0</td><td>91.517265</td><td>2597.9438</td><td>0.5752402</td><td>405984.03</td><td>123.31339</td><td>0</td><td>nan</td><td>nan</td><td>nan</td><td>nan</td><td>621.2179228162092</td><td>0.00021032244</td><td>848.894852260174</td><td>0.0002914222</td><td>0.00021972114</td><td>-0.0025929555</td></tr>\n",
       "<tr><td>120.53196743356966</td><td>0.00096679357</td><td>5504</td><td>401473.62</td><td>91.53064</td><td>2597.8613</td><td>0.5752302</td><td>406293.0</td><td>121.84987</td><td>0</td><td>nan</td><td>nan</td><td>nan</td><td>nan</td><td>621.2198263101714</td><td>0.00021020704</td><td>848.8961790332079</td><td>0.00029115527</td><td>0.00022799587</td><td>-0.0026021185</td></tr>\n",
       "</table></div>"
      ],
      "text/plain": [
       "<Table length=4>\n",
       "       TIME           TIMECORR   CADENCENO ...   POS_CORR1     POS_CORR2  \n",
       "     float64          float32      int32   ...    float32       float32   \n",
       "------------------ ------------- --------- ... ------------- -------------\n",
       "120.52992386784899 0.00096672785      5501 ...  0.0002031729 -0.0025746305\n",
       "120.53060508973431 0.00096674974      5502 ... 0.00021144762 -0.0025837936\n",
       "120.53128621167707  0.0009667717      5503 ... 0.00021972114 -0.0025929555\n",
       "120.53196743356966 0.00096679357      5504 ... 0.00022799587 -0.0026021185"
      ]
     },
     "execution_count": 17,
     "metadata": {},
     "output_type": "execute_result"
    }
   ],
   "source": [
    "with fits.open(filename) as hdulist:\n",
    "    binaryext = hdulist[1].data\n",
    "\n",
    "binarytable = Table(binaryext)\n",
    "binarytable[1:5]"
   ]
  },
  {
   "cell_type": "markdown",
   "metadata": {},
   "source": [
    "## Plotting a Light Curve"
   ]
  },
  {
   "cell_type": "code",
   "execution_count": 18,
   "metadata": {},
   "outputs": [],
   "source": [
    "with fits.open(filename, mode=\"readonly\") as hdulist:\n",
    "    # Read in the \"BJDREF\" which is the time offset of the time array.\n",
    "    bjdrefi = hdulist[1].header['BJDREFI'] \n",
    "    bjdreff = hdulist[1].header['BJDREFF']\n",
    "\n",
    "    # Read in the columns of data.\n",
    "    times = hdulist[1].data['time'] \n",
    "    sap_fluxes = hdulist[1].data['SAP_FLUX']    \n",
    "    pdcsap_fluxes = hdulist[1].data['PDCSAP_FLUX']"
   ]
  },
  {
   "cell_type": "code",
   "execution_count": 19,
   "metadata": {},
   "outputs": [
    {
     "data": {
      "image/png": "[encoded data removed]",
      "text/plain": [
       "<Figure size 900x400 with 1 Axes>"
      ]
     },
     "metadata": {},
     "output_type": "display_data"
    }
   ],
   "source": [
    "# Convert the time array to full BJD by adding the offset back in.\n",
    "bjds = times + bjdrefi + bjdreff \n",
    "\n",
    "plt.figure(figsize=(9,4))\n",
    "\n",
    "# Plot the time, uncorrected and corrected fluxes.\n",
    "plt.plot(bjds, sap_fluxes, '-k', label='SAP Flux') \n",
    "plt.plot(bjds, pdcsap_fluxes, '-b', label='PDCSAP Flux') \n",
    "\n",
    "plt.title('Kepler Light Curve')\n",
    "plt.legend()\n",
    "plt.xlabel('Time (days)')\n",
    "plt.ylabel('Flux (electrons/second)')\n",
    "plt.show()"
   ]
  },
  {
   "cell_type": "markdown",
   "metadata": {},
   "source": [
    "## The Aperture Extension\n",
    "\n",
    "We can also make a plot of the third header extension; the image extension. This data is stored as an array of integers that encodes which pixels were collected from the spacecraft and which were used in the optimal aperture (look here for more information on the aperture extension)."
   ]
  },
  {
   "cell_type": "code",
   "execution_count": 20,
   "metadata": {},
   "outputs": [
    {
     "name": "stdout",
     "output_type": "stream",
     "text": [
      "[[1 1 1 1 1 1 1 0]\n",
      " [1 1 1 5 5 5 5 1]\n",
      " [1 1 5 5 7 7 5 5]\n",
      " [1 1 5 7 7 7 7 5]\n",
      " [1 1 5 7 7 7 7 5]\n",
      " [1 1 5 7 7 7 7 5]\n",
      " [1 1 5 7 7 7 5 5]\n",
      " [1 1 5 5 7 5 5 1]\n",
      " [1 1 1 5 5 5 1 0]]\n"
     ]
    }
   ],
   "source": [
    "with fits.open(filename) as hdulist: \n",
    "    imgdata = hdulist[2].data\n",
    "    \n",
    "print(imgdata)"
   ]
  },
  {
   "cell_type": "code",
   "execution_count": 21,
   "metadata": {},
   "outputs": [
    {
     "data": {
      "image/png": "[encoded data removed]",
      "text/plain": [
       "<Figure size 640x480 with 2 Axes>"
      ]
     },
     "metadata": {},
     "output_type": "display_data"
    }
   ],
   "source": [
    "plt.figure(2)\n",
    "plt.title('Kepler Aperture')\n",
    "plt.imshow(imgdata, cmap=plt.cm.YlGnBu_r)\n",
    "plt.xlabel('Column')\n",
    "plt.ylabel('Row')\n",
    "plt.colorbar()\n",
    "\n",
    "plt.show()"
   ]
  },
  {
   "cell_type": "markdown",
   "metadata": {},
   "source": [
    "---\n",
    "# <span style=\"color:springgreen\">**2) Plotting Images from Target Pixel Files**</span>\n",
    "\n",
    "This notebook tutorial demonstrates the loading and extracting of information from Kepler Target Pixel Files to plot images that show the pixels used to create data found in Kepler light curve files.\n",
    "\n",
    "Source: https://spacetelescope.github.io/mast_notebooks/notebooks/Kepler/plotting_images_from_tpf/plotting_images_from_tpf.html\n",
    "\n"
   ]
  },
  {
   "cell_type": "markdown",
   "metadata": {},
   "source": [
    "## Introduction\n",
    "\n",
    "**Target Pixel File background:** The pixels used to create data in the light curve files are contained within a predefined mask. Each target pixel file packages these pixels as a time series of images in a binary FITS table. These files can then be used to perform photometry on. The binary table in a Target Pixel File (TPF) holds columns of data that contain an array in each cell.\n",
    "\n",
    "**Some notes about the file:** kplr008957091-2012277125453_lpd-targ.fits.gz\n",
    "The filename contains phrases for identification, where\n",
    "\n",
    "kplr = Kepler\n",
    "\n",
    "008957091 = Kepler ID number\n",
    "\n",
    "2012277125453 = year 2012, day 277, time 12:54:53\n",
    "\n",
    "lpd-targ = long cadence target pixel file\n",
    "\n",
    "**Defining some terms:**\n",
    "\n",
    "Cadence: the frequency with which summed data are read out. Files are either short cadence (a 1 minute sum) or long cadence (a 30 minute sum). The data we are using here is a long cadence file.\n",
    "\n",
    "HDU: Header Data Unit; a FITS file is made up of Header or Data units that contain information, data, and metadata relating to the file. The first HDU is called the primary, and anything that follows is considered an extension.\n",
    "\n",
    "For more information about the Kepler mission and collected data, visit the Kepler archive page. To read more details about Target Pixel Files and relevant data terms, look in the Kepler archive manual."
   ]
  },
  {
   "cell_type": "code",
   "execution_count": 22,
   "metadata": {},
   "outputs": [],
   "source": [
    "%matplotlib inline\n",
    "import numpy as np\n",
    "from astropy.io import fits\n",
    "from astropy.table import Table\n",
    "import matplotlib.pyplot as plt\n",
    "\n",
    "from astroquery.mast import Mast\n",
    "from astroquery.mast import Observations"
   ]
  },
  {
   "cell_type": "markdown",
   "metadata": {},
   "source": [
    "## Getting the Data"
   ]
  },
  {
   "cell_type": "code",
   "execution_count": 23,
   "metadata": {},
   "outputs": [
    {
     "data": {
      "text/html": [
       "<div><i>Table masked=True length=1</i>\n",
       "<table id=\"table140017013904288\" class=\"table-striped table-bordered table-condensed\">\n",
       "<thead><tr><th>obsID</th><th>obs_collection</th><th>dataproduct_type</th><th>obs_id</th><th>description</th><th>type</th><th>dataURI</th><th>productType</th><th>productGroupDescription</th><th>productSubGroupDescription</th><th>productDocumentationURL</th><th>project</th><th>prvversion</th><th>proposal_id</th><th>productFilename</th><th>size</th><th>parent_obsid</th><th>dataRights</th><th>calib_level</th></tr></thead>\n",
       "<thead><tr><th>str6</th><th>str6</th><th>str10</th><th>str36</th><th>str59</th><th>str1</th><th>str110</th><th>str7</th><th>str28</th><th>str8</th><th>str1</th><th>str6</th><th>str1</th><th>str7</th><th>str44</th><th>int64</th><th>str6</th><th>str6</th><th>int64</th></tr></thead>\n",
       "<tr><td>549936</td><td>Kepler</td><td>timeseries</td><td>kplr008957091_lc_Q000000000011111111</td><td>Target Pixel Long Cadence (TPL) - Q14</td><td>C</td><td>mast:KEPLER/url/missions/kepler/target_pixel_files/0089/008957091/kplr008957091-2012277125453_lpd-targ.fits.gz</td><td>SCIENCE</td><td>Minimum Recommended Products</td><td>LPD-TARG</td><td>--</td><td>Kepler</td><td>--</td><td>GO30032</td><td>kplr008957091-2012277125453_lpd-targ.fits.gz</td><td>4365449</td><td>549936</td><td>PUBLIC</td><td>2</td></tr>\n",
       "</table></div>"
      ],
      "text/plain": [
       "<Table masked=True length=1>\n",
       "obsID  obs_collection dataproduct_type ... parent_obsid dataRights calib_level\n",
       " str6       str6           str10       ...     str6        str6       int64   \n",
       "------ -------------- ---------------- ... ------------ ---------- -----------\n",
       "549936         Kepler       timeseries ...       549936     PUBLIC           2"
      ]
     },
     "execution_count": 23,
     "metadata": {},
     "output_type": "execute_result"
    }
   ],
   "source": [
    "keplerObs = Observations.query_criteria(target_name='kplr008957091', obs_collection='Kepler')\n",
    "keplerProds = Observations.get_product_list(keplerObs[0])\n",
    "yourProd = Observations.filter_products(keplerProds,extension='kplr008957091-2012277125453_lpd-targ.fits.gz',\n",
    "                                        mrp_only=False)\n",
    "yourProd"
   ]
  },
  {
   "cell_type": "code",
   "execution_count": 24,
   "metadata": {},
   "outputs": [
    {
     "name": "stdout",
     "output_type": "stream",
     "text": [
      "Downloading URL https://mast.stsci.edu/api/v0.1/Download/file?uri=mast:KEPLER/url/missions/kepler/target_pixel_files/0089/008957091/kplr008957091-2012277125453_lpd-targ.fits.gz to ./mastDownload/Kepler/kplr008957091_lc_Q000000000011111111/kplr008957091-2012277125453_lpd-targ.fits.gz ... [Done]\n"
     ]
    },
    {
     "data": {
      "text/html": [
       "<div><i>Table length=1</i>\n",
       "<table id=\"table140017014560896\" class=\"table-striped table-bordered table-condensed\">\n",
       "<thead><tr><th>Local Path</th><th>Status</th><th>Message</th><th>URL</th></tr></thead>\n",
       "<thead><tr><th>str103</th><th>str8</th><th>object</th><th>object</th></tr></thead>\n",
       "<tr><td>./mastDownload/Kepler/kplr008957091_lc_Q000000000011111111/kplr008957091-2012277125453_lpd-targ.fits.gz</td><td>COMPLETE</td><td>None</td><td>None</td></tr>\n",
       "</table></div>"
      ],
      "text/plain": [
       "<Table length=1>\n",
       "                                               Local Path                                               ...\n",
       "                                                 str103                                                 ...\n",
       "------------------------------------------------------------------------------------------------------- ...\n",
       "./mastDownload/Kepler/kplr008957091_lc_Q000000000011111111/kplr008957091-2012277125453_lpd-targ.fits.gz ..."
      ]
     },
     "execution_count": 24,
     "metadata": {},
     "output_type": "execute_result"
    }
   ],
   "source": [
    "Observations.download_products(yourProd, mrp_only=False, cache=False)"
   ]
  },
  {
   "cell_type": "markdown",
   "metadata": {},
   "source": [
    "## Reading FITS Extensions"
   ]
  },
  {
   "cell_type": "code",
   "execution_count": 25,
   "metadata": {},
   "outputs": [
    {
     "name": "stdout",
     "output_type": "stream",
     "text": [
      "Filename: ./mastDownload/Kepler/kplr008957091_lc_Q000000000011111111/kplr008957091-2012277125453_lpd-targ.fits.gz\n",
      "No.    Name      Ver    Type      Cards   Dimensions   Format\n",
      "  0  PRIMARY       1 PrimaryHDU      58   ()      \n",
      "  1  TARGETTABLES    1 BinTableHDU    287   4757R x 13C   [D, E, J, 64J, 64E, 64E, 64E, 64E, 64E, J, E, E, 40E]   \n",
      "  2  APERTURE      1 ImageHDU        48   (8, 8)   int32   \n"
     ]
    }
   ],
   "source": [
    "filename = \"./mastDownload/Kepler/kplr008957091_lc_Q000000000011111111/kplr008957091-2012277125453_lpd-targ.fits.gz\"\n",
    "fits.info(filename)"
   ]
  },
  {
   "cell_type": "code",
   "execution_count": 26,
   "metadata": {},
   "outputs": [
    {
     "name": "stdout",
     "output_type": "stream",
     "text": [
      "BITPIX  =                    8 / array data type                                \n",
      "NAXIS   =                    2 / number of array dimensions                     \n",
      "NAXIS1  =                 1724 / length of first array dimension                \n",
      "NAXIS2  =                 4757 / length of second array dimension               \n",
      "PCOUNT  =                    0 / group parameter count (not used)               \n",
      "GCOUNT  =                    1 / group count (not used)                         \n",
      "TFIELDS =                   13 / number of table fields                         \n",
      "TTYPE1  = 'TIME    '           / column title: data time stamps                 \n",
      "TFORM1  = 'D       '           / column format: 64-bit floating point           \n",
      "TUNIT1  = 'BJD - 2454833'      / column units: barycenter corrected JD          \n",
      "TDISP1  = 'D14.7   '           / column display format                          \n",
      "TTYPE2  = 'TIMECORR'           / column title: barycenter - timeslice correction\n",
      "TFORM2  = 'E       '           / column format: 32-bit floating point           \n",
      "TUNIT2  = 'd       '           / column units: day                              \n",
      "TDISP2  = 'E14.7   '           / column display format                          \n",
      "TTYPE3  = 'CADENCENO'          / column title: unique cadence number            \n",
      "TFORM3  = 'J       '           / column format: signed 32-bit integer           \n",
      "TDISP3  = 'I10     '           / column display format                          \n",
      "TTYPE4  = 'RAW_CNTS'           / column title: raw pixel counts                 \n",
      "TFORM4  = '64J     '           / column format: image of signed 32-bit integers \n",
      "TUNIT4  = 'count   '           / column units: count                            \n",
      "TDISP4  = 'I8      '           / column display format                          \n",
      "TDIM4   = '(8,8)   '           / column dimensions: pixel aperture array        \n",
      "TNULL4  =                   -1 / column null value indicator                    \n"
     ]
    }
   ],
   "source": [
    "with fits.open(filename) as hdulist: \n",
    "    header1 = hdulist[1].header\n",
    "  \n",
    "print(repr(header1[1:25])) #repr() prints the info into neat columns"
   ]
  },
  {
   "cell_type": "code",
   "execution_count": 27,
   "metadata": {},
   "outputs": [
    {
     "data": {
      "text/html": [
       "<div><i>Table length=4</i>\n",
       "<table id=\"table140017014190480\" class=\"table-striped table-bordered table-condensed\">\n",
       "<thead><tr><th>TIME</th><th>TIMECORR</th><th>CADENCENO</th><th>RAW_CNTS</th><th>FLUX</th><th>FLUX_ERR</th><th>FLUX_BKG</th><th>FLUX_BKG_ERR</th><th>COSMIC_RAYS</th><th>QUALITY</th><th>POS_CORR1</th><th>POS_CORR2</th><th>RB_LEVEL</th></tr></thead>\n",
       "<thead><tr><th>float64</th><th>float32</th><th>int32</th><th>int32[8,8]</th><th>float32[8,8]</th><th>float32[8,8]</th><th>float32[8,8]</th><th>float32[8,8]</th><th>float32[8,8]</th><th>int32</th><th>float32</th><th>float32</th><th>float32[8,5]</th></tr></thead>\n",
       "<tr><td>1274.1395732864694</td><td>0.0022160665</td><td>57024</td><td>422568 .. 421938</td><td>41.62306 .. 0.49973154</td><td>1.0728891 .. 1.077012</td><td>166.55408 .. 166.43286</td><td>0.05004611 .. 0.05002594</td><td>nan .. nan</td><td>0</td><td>0.018315108</td><td>-0.052525554</td><td>0.16289888 .. 0.22096205</td></tr>\n",
       "<tr><td>1274.1600076621398</td><td>0.0022167421</td><td>57025</td><td>422568 .. 421938</td><td>41.12269 .. 0.40782627</td><td>1.0728829 .. 1.0770054</td><td>166.5374 .. 166.41513</td><td>0.05014606 .. 0.050128847</td><td>nan .. nan</td><td>0</td><td>0.018484294</td><td>-0.052207224</td><td>0.19264737 .. 0.28943384</td></tr>\n",
       "<tr><td>1274.1804419378168</td><td>0.0022174178</td><td>57026</td><td>422598 .. 421938</td><td>43.76557 .. 0.18402159</td><td>1.0735049 .. 1.0770029</td><td>166.44955 .. 166.32483</td><td>0.05003051 .. 0.05001035</td><td>nan .. nan</td><td>0</td><td>0.019123403</td><td>-0.052663438</td><td>0.27529782 .. 0.28463778</td></tr>\n",
       "<tr><td>1274.2008761132602</td><td>0.0022180933</td><td>57027</td><td>422588 .. 421938</td><td>42.315395 .. 0.26509726</td><td>1.073293 .. 1.076999</td><td>166.54523 .. 166.4112</td><td>0.05008907 .. 0.05007079</td><td>nan .. nan</td><td>0</td><td>0.018382369</td><td>-0.052379206</td><td>0.2684216 .. 0.297417</td></tr>\n",
       "</table></div>"
      ],
      "text/plain": [
       "<Table length=4>\n",
       "       TIME          TIMECORR   ...  POS_CORR2           RB_LEVEL        \n",
       "     float64         float32    ...   float32          float32[8,5]      \n",
       "------------------ ------------ ... ------------ ------------------------\n",
       "1274.1395732864694 0.0022160665 ... -0.052525554 0.16289888 .. 0.22096205\n",
       "1274.1600076621398 0.0022167421 ... -0.052207224 0.19264737 .. 0.28943384\n",
       "1274.1804419378168 0.0022174178 ... -0.052663438 0.27529782 .. 0.28463778\n",
       "1274.2008761132602 0.0022180933 ... -0.052379206    0.2684216 .. 0.297417"
      ]
     },
     "execution_count": 27,
     "metadata": {},
     "output_type": "execute_result"
    }
   ],
   "source": [
    "with fits.open(filename) as hdulist:\n",
    "    binaryext = hdulist[1].data\n",
    "\n",
    "binarytab = Table(binaryext)\n",
    "binarytab[0:4]"
   ]
  },
  {
   "cell_type": "code",
   "execution_count": 28,
   "metadata": {},
   "outputs": [
    {
     "name": "stdout",
     "output_type": "stream",
     "text": [
      "4757\n"
     ]
    }
   ],
   "source": [
    "print(len(binarytab['TIME']))\n"
   ]
  },
  {
   "cell_type": "markdown",
   "metadata": {},
   "source": [
    "## Plotting the Images"
   ]
  },
  {
   "cell_type": "code",
   "execution_count": 29,
   "metadata": {},
   "outputs": [
    {
     "data": {
      "text/plain": [
       "array([[ 4.1623058e+01,  1.7780533e+01,  3.1153817e+00, -3.0876877e+00,\n",
       "         8.3767604e-03, -1.0850269e+00, -8.1516063e-01, -2.5957384e+00],\n",
       "       [ 3.0861683e+01,  1.0227163e+01,  5.5491271e+00,  7.6004462e+00,\n",
       "         3.4271725e+01,  6.9740272e+00,  1.0782831e+00,  7.1954594e+00],\n",
       "       [-1.4854238e+00,  5.4094785e-01,  3.5754349e+00,  1.8321907e+01,\n",
       "         5.8315243e+01,  1.7005610e+01,  1.4785897e+00,  2.1474166e-01],\n",
       "       [-2.9369431e+00, -3.0120549e-01,  1.9583700e+01,  1.2907016e+02,\n",
       "         2.6917322e+02,  7.8723610e+01,  1.8297552e+01,  6.7504066e+01],\n",
       "       [-5.1648269e+00,  6.6967867e-02,  2.4730293e+01,  1.8597522e+02,\n",
       "         3.9219736e+02,  9.2981400e+01,  1.8644941e+01,  1.4952176e+02],\n",
       "       [ 2.4195774e-01, -2.2746756e+00, -7.2001988e-01,  6.1791143e+00,\n",
       "         1.6116604e+01,  1.0269024e+01,  3.5868566e+00,  1.2844697e+00],\n",
       "       [ 2.1793385e+00, -2.0849459e+00, -2.2841897e+00, -2.2008568e-01,\n",
       "         5.5619407e+00,  1.3116534e+01,  1.8261925e+00, -2.2240562e+00],\n",
       "       [-2.1672373e+00, -4.2338033e+00, -2.9555788e+00, -9.1262859e-01,\n",
       "         8.5611248e+00,  2.2380089e+01,  2.7300879e+01,  4.9973154e-01]],\n",
       "      dtype='>f4')"
      ]
     },
     "execution_count": 29,
     "metadata": {},
     "output_type": "execute_result"
    }
   ],
   "source": [
    "binarytab['FLUX'][0]\n"
   ]
  },
  {
   "cell_type": "code",
   "execution_count": 34,
   "metadata": {},
   "outputs": [
    {
     "data": {
      "image/png": "[encoded data removed]",
      "text/plain": [
       "<Figure size 640x480 with 2 Axes>"
      ]
     },
     "metadata": {},
     "output_type": "display_data"
    }
   ],
   "source": [
    "# Look at row 0... this is the image of the objet at a specific time (1274.1395732864694)\n",
    "plt.title('Flux Row 0')\n",
    "plt.xlabel('Column')\n",
    "plt.ylabel('Row')\n",
    "\n",
    "plt.imshow(binarytab['FLUX'][0], cmap=plt.cm.YlGnBu_r)\n",
    "plt.colorbar()\n",
    "plt.clim(0,300)"
   ]
  },
  {
   "cell_type": "code",
   "execution_count": 33,
   "metadata": {},
   "outputs": [
    {
     "data": {
      "text/plain": [
       "array([[nan, nan, nan, nan, nan, nan, nan, nan],\n",
       "       [nan, nan, nan, nan, nan, nan, nan, nan],\n",
       "       [nan, nan, nan, nan, nan, nan, nan, nan],\n",
       "       [nan, nan, nan, nan, nan, nan, nan, nan],\n",
       "       [nan, nan, nan, nan, nan, nan, nan, nan],\n",
       "       [nan, nan, nan, nan, nan, nan, nan, nan],\n",
       "       [nan, nan, nan, nan, nan, nan, nan, nan],\n",
       "       [nan, nan, nan, nan, nan, nan, nan, nan]], dtype='>f4')"
      ]
     },
     "execution_count": 33,
     "metadata": {},
     "output_type": "execute_result"
    }
   ],
   "source": [
    "# Some rows don't contain values (just nan's)... this will result in a blank image frame\n",
    "binarytab['FLUX'][34]"
   ]
  },
  {
   "cell_type": "code",
   "execution_count": 32,
   "metadata": {},
   "outputs": [
    {
     "data": {
      "image/png": "[encoded data removed]",
      "text/plain": [
       "<Figure size 640x480 with 2 Axes>"
      ]
     },
     "metadata": {},
     "output_type": "display_data"
    }
   ],
   "source": [
    "plt.title('Flux Row 34')\n",
    "plt.xlabel('column')\n",
    "plt.ylabel('row')\n",
    "\n",
    "plt.imshow(binarytab['FLUX'][34], cmap=plt.cm.YlGnBu_r)\n",
    "plt.colorbar()\n",
    "plt.clim(0,300)"
   ]
  },
  {
   "cell_type": "code",
   "execution_count": 35,
   "metadata": {},
   "outputs": [
    {
     "name": "stdout",
     "output_type": "stream",
     "text": [
      "[[-0.10368347  1.2084408   0.7001476  -0.04124689 -1.0750767  -0.13303757\n",
      "   1.1955365  -0.308725  ]\n",
      " [-0.8178196   3.288806   -0.01144838  4.190505    1.0418396  -0.12780714\n",
      "  -1.6264764   0.39404774]\n",
      " [-0.80597305  1.1767769  -2.1247475   2.0623436   1.0380287  -2.25745\n",
      "  -0.9374518  -1.7162728 ]\n",
      " [-0.8251231  -0.22384816 -0.72644997 -0.04460144  3.20755     0.5736923\n",
      "   1.1855717   1.1150208 ]\n",
      " [-0.10608602  1.8990426  -0.7197819   1.3527222  -1.2155457  -0.84685516\n",
      "  -0.22213173 -2.4338684 ]\n",
      " [ 1.3052053   0.488378   -1.4316924   1.3895159   1.0554571   2.7365294\n",
      "  -0.21660066  1.1082048 ]\n",
      " [-2.248003   -2.3650186  -2.852107    4.1624756   1.0340705  -0.8345432\n",
      "   0.48870218 -1.7171237 ]\n",
      " [-0.10844719 -1.6385655  -0.7226268  -1.4699272   1.7503319  -1.532999\n",
      "   1.8900471   1.1174535 ]]\n"
     ]
    }
   ],
   "source": [
    "# If you want to look at the difference between two rows (ex 19-20), we can do this:\n",
    "\n",
    "arr = np.subtract(binarytab['FLUX'][28], binarytab['FLUX'][29])\n",
    "print(arr)"
   ]
  },
  {
   "cell_type": "code",
   "execution_count": 36,
   "metadata": {},
   "outputs": [
    {
     "data": {
      "image/png": "[encoded data removed]",
      "text/plain": [
       "<Figure size 640x480 with 2 Axes>"
      ]
     },
     "metadata": {},
     "output_type": "display_data"
    }
   ],
   "source": [
    "plt.title('Flux Row 28 minus 29')\n",
    "plt.xlabel('Column')\n",
    "plt.ylabel('Row')\n",
    "\n",
    "plt.imshow(arr, cmap=plt.cm.YlGnBu_r)\n",
    "plt.colorbar()\n",
    "plt.clim(-4, 12)"
   ]
  },
  {
   "cell_type": "markdown",
   "metadata": {},
   "source": [
    "## The Aperture Extension\n",
    "\n",
    "We can also make a plot of the third header extension; the image extension. This data is stored as an array of integers that encodes which pixels were collected from the spacecraft and which were used in the optimal aperture (look here for more information on the aperture extension)."
   ]
  },
  {
   "cell_type": "code",
   "execution_count": 37,
   "metadata": {},
   "outputs": [
    {
     "name": "stdout",
     "output_type": "stream",
     "text": [
      "[[1 1 1 1 1 1 1 1]\n",
      " [1 1 1 1 1 1 1 1]\n",
      " [1 1 1 1 1 1 1 1]\n",
      " [1 1 1 1 3 1 1 1]\n",
      " [1 1 1 1 3 1 1 1]\n",
      " [1 1 1 1 1 1 1 1]\n",
      " [1 1 1 1 1 1 1 1]\n",
      " [1 1 1 1 1 1 1 1]]\n"
     ]
    }
   ],
   "source": [
    "with fits.open(filename) as hdulist: \n",
    "    imgdata = hdulist[2].data\n",
    "    \n",
    "print(imgdata)"
   ]
  },
  {
   "cell_type": "code",
   "execution_count": 38,
   "metadata": {},
   "outputs": [
    {
     "data": {
      "text/plain": [
       "<matplotlib.image.AxesImage at 0x7f58402a5bb0>"
      ]
     },
     "execution_count": 38,
     "metadata": {},
     "output_type": "execute_result"
    },
    {
     "data": {
      "image/png": "[encoded data removed]",
      "text/plain": [
       "<Figure size 640x480 with 1 Axes>"
      ]
     },
     "metadata": {},
     "output_type": "display_data"
    }
   ],
   "source": [
    "plt.figure()\n",
    "plt.title('TPF APERTURE')\n",
    "plt.xlabel('Column')\n",
    "plt.ylabel('Row')\n",
    "plt.imshow(imgdata, cmap=plt.cm.YlGnBu_r)"
   ]
  },
  {
   "cell_type": "code",
   "execution_count": null,
   "metadata": {},
   "outputs": [],
   "source": []
  },
  {
   "cell_type": "markdown",
   "metadata": {},
   "source": [
    "---\n",
    "# <span style=\"color:slateblue\">**3) Read and Plot a Kepler Data Validation Timeseries File**</span>\n",
    "\n",
    "This notebook tutorial demonstrates how to load and plot the contents of a Kepler data validation timeseries (dvt) file. We will plot the flux timeseries contained within the file.\n",
    "\n",
    "Source: https://spacetelescope.github.io/mast_notebooks/notebooks/Kepler/plotting_dvts/plotting_dvts.html\n"
   ]
  },
  {
   "cell_type": "code",
   "execution_count": null,
   "metadata": {},
   "outputs": [],
   "source": [
    "%matplotlib inline\n",
    "from astropy.io import fits\n",
    "import matplotlib.pyplot as plt\n",
    "import numpy as np"
   ]
  },
  {
   "cell_type": "markdown",
   "metadata": {},
   "source": [
    "## Introduction\n",
    "\n",
    "Kepler does a search of the postage-stamp data, taken at either short (60-second) or long (30-minute) cadence. For every signal it identifies with its Transit Planet Search (TPS) module, it creates something called a Threshold Crossing Event (TCE). TCEs are periodic signals that exceed a nominal signal-to-noise requirement. Some are consistent with transiting planets, others are eclipsing binaries, and others are more consistent with variable stars or noise in the data.\n",
    "\n",
    "The Data Validation (DV) module of the pipeline produces a set of products that can help validate the quality of a TCE. The DV products include a time series file of the flattened light curve that was searched, where the light curves from different Quarters are stitched together to mitigate offsets between them, and relevant statistics for each signal (dvt.fits). DV reports that consist of a few diagnostic plots and relevant statistics (dvs.pdf for individual signals, dvr.pdf for all signals found in the TIC object), and an xml file (dvr.xml) that contains the results of the planet transit fit, are also created and provided. We will be exploring a dvt.fits file in this tutorial.\n",
    "\n",
    "This tutorial will refer to a couple Kepler-related terms that we define here.\n",
    "\n",
    "Quarter = Kepler rotated 90 degrees once every 3 months. Each rotation resulted in a separate collection sequence known as a “Quarter”. While the field-of-view did not change, other details and parameters did, including where some targets fell on the detectors and even whether they got data at all depending on where they were located. Most Quarters contain a single long cadence file, and a few short cadence sequences, but there are some exceptions.\n",
    "\n",
    "KIC ID = “Kepler Input Catalog” identifier, used to refer to different targets in the Kepler field-of-view. With some exceptions, each objects in the Kepler field-of-view has a single, unique KIC ID. Files are often named based on the KIC ID the data are for.\n",
    "\n",
    "HDU = Header Data Unit. A FITS file is made up of HDUs that contain data and metadata relating to the file. The first HDU is called the primary HDU, and anything that follows is considered an “extension”, e.g., “the first FITS extension”, “the second FITS extension”, etc.\n",
    "\n",
    "BJD = Barycentric Julian Date, the Julian Date that has been corrected for differences in the Earth’s position with respect to the Solar System center of mass.\n",
    "\n",
    "BKJD = Kepler Barycentric Julian Date, the timestamp measured in BJD, but offset by 2454833.0. I.e., BKJD = BJD - 2454833.0\n",
    "\n",
    "Cadence = The interval between flux measurements, nominally ~1 minute for short cadence and ~30 minutes for long cadence.\n",
    "\n",
    "TCE = Threshold Crossing Event, periodic signals found by the Kepler pipeline that exceed a nominal signal-to-noise ratio."
   ]
  },
  {
   "cell_type": "markdown",
   "metadata": {},
   "source": [
    "## Obtaining the DVT Series File\n",
    "\n",
    "Our target KIC 11446443 has at least one planet."
   ]
  },
  {
   "cell_type": "code",
   "execution_count": 46,
   "metadata": {},
   "outputs": [],
   "source": [
    "# For the purposes of this tutorial, we just know the MAST URL location of the file we want to examine.\n",
    "# Note: We need to figure out how to search and retrieve Kepler DVT files!!\n",
    "dvt_file = \"https://archive.stsci.edu/missions/kepler/dv_files/0114/011446443/kplr011446443-20160128150956_dvt.fits\""
   ]
  },
  {
   "cell_type": "code",
   "execution_count": 40,
   "metadata": {},
   "outputs": [
    {
     "name": "stdout",
     "output_type": "stream",
     "text": [
      "Filename: /home/sc36/.astropy/cache/download/url/c56907f3f143ecacc3cd62997839d56d/contents\n",
      "No.    Name      Ver    Type      Cards   Dimensions   Format\n",
      "  0  PRIMARY       1 PrimaryHDU      56   ()      \n",
      "  1  TCE_1         1 BinTableHDU    106   71427R x 10C   [D, E, J, E, E, E, E, E, E, E]   \n",
      "  2  Statistics    1 BinTableHDU    221   71427R x 50C   [D, E, J, E, E, E, E, J, E, E, E, E, E, E, E, E, E, E, E, E, E, E, E, E, E, E, E, E, E, E, E, E, E, E, E, E, E, E, E, E, E, E, E, E, E, E, E, E, E, E]   \n"
     ]
    }
   ],
   "source": [
    "fits.info(dvt_file)"
   ]
  },
  {
   "cell_type": "code",
   "execution_count": 42,
   "metadata": {},
   "outputs": [
    {
     "data": {
      "text/plain": [
       "ColDefs(\n",
       "    name = 'TIME'; format = 'D'; unit = 'BJD - 2454833'; disp = 'D14.7'\n",
       "    name = 'TIMECORR'; format = 'E'; unit = 'd'; disp = 'E13.6'\n",
       "    name = 'CADENCENO'; format = 'J'; disp = 'I10'\n",
       "    name = 'PHASE'; format = 'E'; unit = 'days'; disp = 'E14.7'\n",
       "    name = 'LC_INIT'; format = 'E'; unit = 'dimensionless'; disp = 'E14.7'\n",
       "    name = 'LC_INIT_ERR'; format = 'E'; unit = 'dimensionless'; disp = 'E14.7'\n",
       "    name = 'LC_WHITE'; format = 'E'; unit = 'dimensionless'; disp = 'E14.7'\n",
       "    name = 'LC_DETREND'; format = 'E'; unit = 'dimensionless'; disp = 'E14.7'\n",
       "    name = 'MODEL_INIT'; format = 'E'; unit = 'dimensionless'; disp = 'E14.7'\n",
       "    name = 'MODEL_WHITE'; format = 'E'; unit = 'dimensionless'; disp = 'E14.7'\n",
       ")"
      ]
     },
     "execution_count": 42,
     "metadata": {},
     "output_type": "execute_result"
    }
   ],
   "source": [
    "fits.getdata(dvt_file, ext=1).columns\n"
   ]
  },
  {
   "cell_type": "markdown",
   "metadata": {},
   "source": [
    "## Plotting the Timeseries Fluxes"
   ]
  },
  {
   "cell_type": "code",
   "execution_count": 43,
   "metadata": {},
   "outputs": [],
   "source": [
    "with fits.open(dvt_file, mode=\"readonly\") as hdulist:\n",
    "    \n",
    "    # Extract stellar parameters from the primary header.  We'll get the effective temperature, surface gravity,\n",
    "    # and Kepler magnitude.\n",
    "    star_teff = hdulist[0].header['TEFF']\n",
    "    star_logg = hdulist[0].header['LOGG']\n",
    "    star_tmag = hdulist[0].header['KEPMAG']\n",
    "    \n",
    "    # Extract some of the fit parameters for the first TCE.  These are stored in the FITS header of the first\n",
    "    # extension.\n",
    "    period = hdulist[1].header['TPERIOD']\n",
    "    duration = hdulist[1].header['TDUR']\n",
    "    epoch = hdulist[1].header['TEPOCH']\n",
    "    depth = hdulist[1].header['TDEPTH']\n",
    "    \n",
    "    # Extract some of the columns of interest for the TCE signal.  These are stored in the binary FITS table\n",
    "    # in the first extension.  We'll extract the timestamps in BKJD, phase, initial fluxes, and corresponding\n",
    "    # model fluxes.\n",
    "    times = hdulist[1].data['TIME']\n",
    "    phases = hdulist[1].data['PHASE']\n",
    "    fluxes_init = hdulist[1].data['LC_INIT']\n",
    "    model_fluxes_init = hdulist[1].data['MODEL_INIT']"
   ]
  },
  {
   "cell_type": "code",
   "execution_count": 44,
   "metadata": {},
   "outputs": [
    {
     "data": {
      "image/png": "[encoded data removed]",
      "text/plain": [
       "<Figure size 1200x400 with 1 Axes>"
      ]
     },
     "metadata": {},
     "output_type": "display_data"
    }
   ],
   "source": [
    "# First sort the phase and flux arrays by phase so we can draw the connecting lines between points.\n",
    "sort_indexes = np.argsort(phases)\n",
    "\n",
    "# Start figure and axis.\n",
    "fig, ax = plt.subplots(figsize=(12,4))\n",
    "\n",
    "# Plot the detrended fluxes as black circles.  We will plot them in sorted order.\n",
    "ax.plot(phases[sort_indexes], fluxes_init[sort_indexes], 'ko',\n",
    "       markersize=2)\n",
    "\n",
    "# Plot the model fluxes as a red line.  We will plot them in sorted order so the line connects between points cleanly.\n",
    "ax.plot(phases[sort_indexes], model_fluxes_init[sort_indexes], '-r')\n",
    "\n",
    "# Let's label the axes and define a title for the figure.\n",
    "fig.suptitle('KIC 11446443 - Folded Light Curve And Transit Model.')\n",
    "ax.set_ylabel(\"Flux (relative)\")\n",
    "ax.set_xlabel(\"Orbital Phase\")\n",
    "\n",
    "# Let's add some text in the top-right containing some of the fit parameters.\n",
    "plt.text(0.3, 0.005, \"Period = {0:10.6f} days\".format(period))\n",
    "plt.text(0.3, 0.003, \"Duration = {0:10.6f} hours\".format(duration))\n",
    "plt.text(0.3, 0.001, \"Depth = {0:10.6f} ppm\".format(depth))\n",
    "plt.text(0.95, 0.005, \"Star Teff = {0:10.6f} K\".format(star_teff))\n",
    "plt.text(0.95, 0.003, \"Star log(g) = {0:10.6f}\".format(star_logg))\n",
    "\n",
    "plt.show()"
   ]
  },
  {
   "cell_type": "markdown",
   "metadata": {},
   "source": [
    "## Examining the Statistics Extension"
   ]
  },
  {
   "cell_type": "code",
   "execution_count": 45,
   "metadata": {},
   "outputs": [
    {
     "data": {
      "text/plain": [
       "ColDefs(\n",
       "    name = 'TIME'; format = 'D'; unit = 'BJD - 2454833'; disp = 'D14.7'\n",
       "    name = 'TIMECORR'; format = 'E'; unit = 'd'; disp = 'E14.7'\n",
       "    name = 'CADENCENO'; format = 'J'; disp = 'I10'\n",
       "    name = 'PDCSAP_FLUX'; format = 'E'; unit = 'e-/s'; disp = 'E14.7'\n",
       "    name = 'PDCSAP_FLUX_ERR'; format = 'E'; unit = 'e-/s'; disp = 'E14.7'\n",
       "    name = 'RESIDUAL_LC'; format = 'E'; unit = 'dimensionless'; disp = 'E14.7'\n",
       "    name = 'DEWEIGHTS'; format = 'E'; unit = 'proportion'; disp = 'E14.7'\n",
       "    name = 'QUALITY'; format = 'J'; disp = 'B24.24'\n",
       "    name = 'SES_CORR_1_5'; format = 'E'; disp = 'E14.7'\n",
       "    name = 'SES_CORR_2_0'; format = 'E'; disp = 'E14.7'\n",
       "    name = 'SES_CORR_2_5'; format = 'E'; disp = 'E14.7'\n",
       "    name = 'SES_CORR_3_0'; format = 'E'; disp = 'E14.7'\n",
       "    name = 'SES_CORR_3_5'; format = 'E'; disp = 'E14.7'\n",
       "    name = 'SES_CORR_4_5'; format = 'E'; disp = 'E14.7'\n",
       "    name = 'SES_CORR_5_0'; format = 'E'; disp = 'E14.7'\n",
       "    name = 'SES_CORR_6_0'; format = 'E'; disp = 'E14.7'\n",
       "    name = 'SES_CORR_7_5'; format = 'E'; disp = 'E14.7'\n",
       "    name = 'SES_CORR_9_0'; format = 'E'; disp = 'E14.7'\n",
       "    name = 'SES_CORR_10_5'; format = 'E'; disp = 'E14.7'\n",
       "    name = 'SES_CORR_12_0'; format = 'E'; disp = 'E14.7'\n",
       "    name = 'SES_CORR_12_5'; format = 'E'; disp = 'E14.7'\n",
       "    name = 'SES_CORR_15_0'; format = 'E'; disp = 'E14.7'\n",
       "    name = 'SES_NORM_1_5'; format = 'E'; disp = 'E14.7'\n",
       "    name = 'SES_NORM_2_0'; format = 'E'; disp = 'E14.7'\n",
       "    name = 'SES_NORM_2_5'; format = 'E'; disp = 'E14.7'\n",
       "    name = 'SES_NORM_3_0'; format = 'E'; disp = 'E14.7'\n",
       "    name = 'SES_NORM_3_5'; format = 'E'; disp = 'E14.7'\n",
       "    name = 'SES_NORM_4_5'; format = 'E'; disp = 'E14.7'\n",
       "    name = 'SES_NORM_5_0'; format = 'E'; disp = 'E14.7'\n",
       "    name = 'SES_NORM_6_0'; format = 'E'; disp = 'E14.7'\n",
       "    name = 'SES_NORM_7_5'; format = 'E'; disp = 'E14.7'\n",
       "    name = 'SES_NORM_9_0'; format = 'E'; disp = 'E14.7'\n",
       "    name = 'SES_NORM_10_5'; format = 'E'; disp = 'E14.7'\n",
       "    name = 'SES_NORM_12_0'; format = 'E'; disp = 'E14.7'\n",
       "    name = 'SES_NORM_12_5'; format = 'E'; disp = 'E14.7'\n",
       "    name = 'SES_NORM_15_0'; format = 'E'; disp = 'E14.7'\n",
       "    name = 'CDPP_1_5'; format = 'E'; unit = 'ppm'; disp = 'E14.7'\n",
       "    name = 'CDPP_2_0'; format = 'E'; unit = 'ppm'; disp = 'E14.7'\n",
       "    name = 'CDPP_2_5'; format = 'E'; unit = 'ppm'; disp = 'E14.7'\n",
       "    name = 'CDPP_3_0'; format = 'E'; unit = 'ppm'; disp = 'E14.7'\n",
       "    name = 'CDPP_3_5'; format = 'E'; unit = 'ppm'; disp = 'E14.7'\n",
       "    name = 'CDPP_4_5'; format = 'E'; unit = 'ppm'; disp = 'E14.7'\n",
       "    name = 'CDPP_5_0'; format = 'E'; unit = 'ppm'; disp = 'E14.7'\n",
       "    name = 'CDPP_6_0'; format = 'E'; unit = 'ppm'; disp = 'E14.7'\n",
       "    name = 'CDPP_7_5'; format = 'E'; unit = 'ppm'; disp = 'E14.7'\n",
       "    name = 'CDPP_9_0'; format = 'E'; unit = 'ppm'; disp = 'E14.7'\n",
       "    name = 'CDPP_10_5'; format = 'E'; unit = 'ppm'; disp = 'E14.7'\n",
       "    name = 'CDPP_12_0'; format = 'E'; unit = 'ppm'; disp = 'E14.7'\n",
       "    name = 'CDPP_12_5'; format = 'E'; unit = 'ppm'; disp = 'E14.7'\n",
       "    name = 'CDPP_15_0'; format = 'E'; unit = 'ppm'; disp = 'E14.7'\n",
       ")"
      ]
     },
     "execution_count": 45,
     "metadata": {},
     "output_type": "execute_result"
    }
   ],
   "source": [
    "fits.getdata(dvt_file, ext=2).columns"
   ]
  },
  {
   "cell_type": "markdown",
   "metadata": {},
   "source": [
    "---\n",
    "# <span style=\"color:tomato\">**4) Plotting a Catalog Over a Kepler Full Frame Image File**</span>\n",
    "\n",
    "This tutorial demonstrates how to access the WCS (World Coordinate System) from a full frame image file and use this data to plot a catalog of objects over the FFI.\n",
    "\n",
    "\n",
    "Source: https://spacetelescope.github.io/mast_notebooks/notebooks/Kepler/plotting_dvts/plotting_dvts.html\n"
   ]
  },
  {
   "cell_type": "markdown",
   "metadata": {},
   "source": [
    "# Introduction\n",
    "\n",
    "**Full Frame Image file background:** A Full Frame Image (FFI) contains values for every pixel in each of the 84 channels. Standard calibrations, such as flat fields, blacks, and smears have been applied to the calibrated FFIs. These files also contain a World Coordinate System (WCS) that attaches RA and Dec coordinates to pixel x and y values.\n",
    "\n",
    "**Some notes about the file:** kplr2009170043915_ffi-cal.fits\n",
    "The filename contains phrases for identification, where\n",
    "\n",
    "kplr = Kepler\n",
    "\n",
    "2009170043915 = year 2009, day 170, time 04:39:15\n",
    "\n",
    "ffi-cal = calibrated FFI image\n",
    "\n",
    "**Defining some terms:**\n",
    "\n",
    "HDU: Header Data Unit; a FITS file is made up of Header or Data units that contain information, data, and metadata relating to the file. The first HDU is called the primary, and anything that follows is considered an extension.\n",
    "\n",
    "TIC: TESS Input Catalog; a catalog of luminous sources on the sky to be used by the TESS mission. We will use the TIC in this notebook to query a catalog of objects that we will then plot over an image from Kepler.\n",
    "\n",
    "WCS: World Coordinate System; coordinates attached to each pixel of an N-dimensional image of a FITS file. For example, a specified celestial RA and Dec associated with pixel location in the image.\n",
    "\n",
    "For more information about the Kepler mission and collected data, visit the Kepler archive page. To read more details about light curves and important data terms, look in the Kepler archive manual."
   ]
  },
  {
   "cell_type": "code",
   "execution_count": 48,
   "metadata": {},
   "outputs": [],
   "source": [
    "%matplotlib inline\n",
    "import numpy as np\n",
    "from astropy.io import fits\n",
    "from astropy.wcs import WCS\n",
    "from astropy.table import Table\n",
    "import matplotlib.pyplot as plt\n",
    "from astroquery.mast import Mast\n",
    "from astroquery.mast import Observations"
   ]
  },
  {
   "cell_type": "markdown",
   "metadata": {},
   "source": [
    "## Getting the Data"
   ]
  },
  {
   "cell_type": "code",
   "execution_count": 49,
   "metadata": {},
   "outputs": [
    {
     "data": {
      "text/html": [
       "<div><i>Table masked=True length=1</i>\n",
       "<table id=\"table140016974694816\" class=\"table-striped table-bordered table-condensed\">\n",
       "<thead><tr><th>obsID</th><th>obs_collection</th><th>dataproduct_type</th><th>obs_id</th><th>description</th><th>type</th><th>dataURI</th><th>productType</th><th>productGroupDescription</th><th>productSubGroupDescription</th><th>productDocumentationURL</th><th>project</th><th>prvversion</th><th>proposal_id</th><th>productFilename</th><th>size</th><th>parent_obsid</th><th>dataRights</th><th>calib_level</th></tr></thead>\n",
       "<thead><tr><th>str6</th><th>str9</th><th>str5</th><th>str20</th><th>str22</th><th>str1</th><th>str106</th><th>str7</th><th>str28</th><th>str1</th><th>str1</th><th>str6</th><th>str1</th><th>str1</th><th>str37</th><th>int64</th><th>str6</th><th>str6</th><th>int64</th></tr></thead>\n",
       "<tr><td>385623</td><td>KeplerFFI</td><td>image</td><td>kplr2009170043915_84</td><td>Full Frame Image (FFI)</td><td>C</td><td>mast:KEPLERFFI/url/missions/kepler/ffi/kplr2009170043915_ffi-cal.fits</td><td>SCIENCE</td><td>Minimum Recommended Products</td><td>--</td><td>--</td><td>Kepler</td><td>--</td><td>--</td><td>kplr2009170043915_ffi-cal.fits</td><td>407882880</td><td>385623</td><td>PUBLIC</td><td>1</td></tr>\n",
       "</table></div>"
      ],
      "text/plain": [
       "<Table masked=True length=1>\n",
       "obsID  obs_collection dataproduct_type ... parent_obsid dataRights calib_level\n",
       " str6       str9            str5       ...     str6        str6       int64   \n",
       "------ -------------- ---------------- ... ------------ ---------- -----------\n",
       "385623      KeplerFFI            image ...       385623     PUBLIC           1"
      ]
     },
     "execution_count": 49,
     "metadata": {},
     "output_type": "execute_result"
    }
   ],
   "source": [
    "kplrObs = Observations.query_criteria(obs_id=\"kplr2009170043915_84\", obs_collection=\"KeplerFFI\")\n",
    "kplrProds = Observations.get_product_list(kplrObs[0])\n",
    "yourProd = Observations.filter_products(kplrProds, extension='kplr2009170043915_ffi-cal.fits', \n",
    "                                        mrp_only=False)\n",
    "yourProd"
   ]
  },
  {
   "cell_type": "code",
   "execution_count": 50,
   "metadata": {},
   "outputs": [
    {
     "name": "stdout",
     "output_type": "stream",
     "text": [
      "Downloading URL https://mast.stsci.edu/api/v0.1/Download/file?uri=mast:KEPLERFFI/url/missions/kepler/ffi/kplr2009170043915_ffi-cal.fits to ./mastDownload/KeplerFFI/kplr2009170043915_84/kplr2009170043915_ffi-cal.fits ... [Done]\n"
     ]
    },
    {
     "data": {
      "text/html": [
       "<div><i>Table length=1</i>\n",
       "<table id=\"table140018351378640\" class=\"table-striped table-bordered table-condensed\">\n",
       "<thead><tr><th>Local Path</th><th>Status</th><th>Message</th><th>URL</th></tr></thead>\n",
       "<thead><tr><th>str76</th><th>str8</th><th>object</th><th>object</th></tr></thead>\n",
       "<tr><td>./mastDownload/KeplerFFI/kplr2009170043915_84/kplr2009170043915_ffi-cal.fits</td><td>COMPLETE</td><td>None</td><td>None</td></tr>\n",
       "</table></div>"
      ],
      "text/plain": [
       "<Table length=1>\n",
       "                                 Local Path                                  ...\n",
       "                                   str76                                     ...\n",
       "---------------------------------------------------------------------------- ...\n",
       "./mastDownload/KeplerFFI/kplr2009170043915_84/kplr2009170043915_ffi-cal.fits ..."
      ]
     },
     "execution_count": 50,
     "metadata": {},
     "output_type": "execute_result"
    }
   ],
   "source": [
    "Observations.download_products(yourProd, mrp_only=False, cache=False)"
   ]
  },
  {
   "cell_type": "markdown",
   "metadata": {},
   "source": [
    "## Reading FITS Extensions"
   ]
  },
  {
   "cell_type": "code",
   "execution_count": 51,
   "metadata": {},
   "outputs": [
    {
     "name": "stdout",
     "output_type": "stream",
     "text": [
      "Filename: ./mastDownload/KeplerFFI/kplr2009170043915_84/kplr2009170043915_ffi-cal.fits\n",
      "No.    Name      Ver    Type      Cards   Dimensions   Format\n",
      "  0  PRIMARY       1 PrimaryHDU      57   ()      \n",
      "  1  MOD.OUT 2.1    1 ImageHDU       100   (1132, 1070)   float32   \n",
      "  2  MOD.OUT 2.2    1 ImageHDU       100   (1132, 1070)   float32   \n",
      "  3  MOD.OUT 2.3    1 ImageHDU       100   (1132, 1070)   float32   \n",
      "  4  MOD.OUT 2.4    1 ImageHDU       100   (1132, 1070)   float32   \n",
      "  5  MOD.OUT 3.1    1 ImageHDU       100   (1132, 1070)   float32   \n",
      "  6  MOD.OUT 3.2    1 ImageHDU       100   (1132, 1070)   float32   \n",
      "  7  MOD.OUT 3.3    1 ImageHDU       100   (1132, 1070)   float32   \n",
      "  8  MOD.OUT 3.4    1 ImageHDU       100   (1132, 1070)   float32   \n",
      "  9  MOD.OUT 4.1    1 ImageHDU       100   (1132, 1070)   float32   \n",
      " 10  MOD.OUT 4.2    1 ImageHDU       100   (1132, 1070)   float32   \n",
      " 11  MOD.OUT 4.3    1 ImageHDU       100   (1132, 1070)   float32   \n",
      " 12  MOD.OUT 4.4    1 ImageHDU       100   (1132, 1070)   float32   \n",
      " 13  MOD.OUT 6.1    1 ImageHDU       100   (1132, 1070)   float32   \n",
      " 14  MOD.OUT 6.2    1 ImageHDU       100   (1132, 1070)   float32   \n",
      " 15  MOD.OUT 6.3    1 ImageHDU       100   (1132, 1070)   float32   \n",
      " 16  MOD.OUT 6.4    1 ImageHDU       100   (1132, 1070)   float32   \n",
      " 17  MOD.OUT 7.1    1 ImageHDU       100   (1132, 1070)   float32   \n",
      " 18  MOD.OUT 7.2    1 ImageHDU       100   (1132, 1070)   float32   \n",
      " 19  MOD.OUT 7.3    1 ImageHDU       100   (1132, 1070)   float32   \n",
      " 20  MOD.OUT 7.4    1 ImageHDU       100   (1132, 1070)   float32   \n",
      " 21  MOD.OUT 8.1    1 ImageHDU       100   (1132, 1070)   float32   \n",
      " 22  MOD.OUT 8.2    1 ImageHDU       100   (1132, 1070)   float32   \n",
      " 23  MOD.OUT 8.3    1 ImageHDU       100   (1132, 1070)   float32   \n",
      " 24  MOD.OUT 8.4    1 ImageHDU       100   (1132, 1070)   float32   \n",
      " 25  MOD.OUT 9.1    1 ImageHDU       100   (1132, 1070)   float32   \n",
      " 26  MOD.OUT 9.2    1 ImageHDU       100   (1132, 1070)   float32   \n",
      " 27  MOD.OUT 9.3    1 ImageHDU       100   (1132, 1070)   float32   \n",
      " 28  MOD.OUT 9.4    1 ImageHDU       100   (1132, 1070)   float32   \n",
      " 29  MOD.OUT 10.1    1 ImageHDU       100   (1132, 1070)   float32   \n",
      " 30  MOD.OUT 10.2    1 ImageHDU       100   (1132, 1070)   float32   \n",
      " 31  MOD.OUT 10.3    1 ImageHDU       100   (1132, 1070)   float32   \n",
      " 32  MOD.OUT 10.4    1 ImageHDU       100   (1132, 1070)   float32   \n",
      " 33  MOD.OUT 11.1    1 ImageHDU       100   (1132, 1070)   float32   \n",
      " 34  MOD.OUT 11.2    1 ImageHDU       100   (1132, 1070)   float32   \n",
      " 35  MOD.OUT 11.3    1 ImageHDU       100   (1132, 1070)   float32   \n",
      " 36  MOD.OUT 11.4    1 ImageHDU       100   (1132, 1070)   float32   \n",
      " 37  MOD.OUT 12.1    1 ImageHDU       100   (1132, 1070)   float32   \n",
      " 38  MOD.OUT 12.2    1 ImageHDU       100   (1132, 1070)   float32   \n",
      " 39  MOD.OUT 12.3    1 ImageHDU       100   (1132, 1070)   float32   \n",
      " 40  MOD.OUT 12.4    1 ImageHDU       100   (1132, 1070)   float32   \n",
      " 41  MOD.OUT 13.1    1 ImageHDU       100   (1132, 1070)   float32   \n",
      " 42  MOD.OUT 13.2    1 ImageHDU       100   (1132, 1070)   float32   \n",
      " 43  MOD.OUT 13.3    1 ImageHDU       100   (1132, 1070)   float32   \n",
      " 44  MOD.OUT 13.4    1 ImageHDU       100   (1132, 1070)   float32   \n",
      " 45  MOD.OUT 14.1    1 ImageHDU       100   (1132, 1070)   float32   \n",
      " 46  MOD.OUT 14.2    1 ImageHDU       100   (1132, 1070)   float32   \n",
      " 47  MOD.OUT 14.3    1 ImageHDU       100   (1132, 1070)   float32   \n",
      " 48  MOD.OUT 14.4    1 ImageHDU       100   (1132, 1070)   float32   \n",
      " 49  MOD.OUT 15.1    1 ImageHDU       100   (1132, 1070)   float32   \n",
      " 50  MOD.OUT 15.2    1 ImageHDU       100   (1132, 1070)   float32   \n",
      " 51  MOD.OUT 15.3    1 ImageHDU       100   (1132, 1070)   float32   \n",
      " 52  MOD.OUT 15.4    1 ImageHDU       100   (1132, 1070)   float32   \n",
      " 53  MOD.OUT 16.1    1 ImageHDU       100   (1132, 1070)   float32   \n",
      " 54  MOD.OUT 16.2    1 ImageHDU       100   (1132, 1070)   float32   \n",
      " 55  MOD.OUT 16.3    1 ImageHDU       100   (1132, 1070)   float32   \n",
      " 56  MOD.OUT 16.4    1 ImageHDU       100   (1132, 1070)   float32   \n",
      " 57  MOD.OUT 17.1    1 ImageHDU       100   (1132, 1070)   float32   \n",
      " 58  MOD.OUT 17.2    1 ImageHDU       100   (1132, 1070)   float32   \n",
      " 59  MOD.OUT 17.3    1 ImageHDU       100   (1132, 1070)   float32   \n",
      " 60  MOD.OUT 17.4    1 ImageHDU       100   (1132, 1070)   float32   \n",
      " 61  MOD.OUT 18.1    1 ImageHDU       100   (1132, 1070)   float32   \n",
      " 62  MOD.OUT 18.2    1 ImageHDU       100   (1132, 1070)   float32   \n",
      " 63  MOD.OUT 18.3    1 ImageHDU       100   (1132, 1070)   float32   \n",
      " 64  MOD.OUT 18.4    1 ImageHDU       100   (1132, 1070)   float32   \n",
      " 65  MOD.OUT 19.1    1 ImageHDU       100   (1132, 1070)   float32   \n",
      " 66  MOD.OUT 19.2    1 ImageHDU       100   (1132, 1070)   float32   \n",
      " 67  MOD.OUT 19.3    1 ImageHDU       100   (1132, 1070)   float32   \n",
      " 68  MOD.OUT 19.4    1 ImageHDU       100   (1132, 1070)   float32   \n",
      " 69  MOD.OUT 20.1    1 ImageHDU       100   (1132, 1070)   float32   \n",
      " 70  MOD.OUT 20.2    1 ImageHDU       100   (1132, 1070)   float32   \n",
      " 71  MOD.OUT 20.3    1 ImageHDU       100   (1132, 1070)   float32   \n",
      " 72  MOD.OUT 20.4    1 ImageHDU       100   (1132, 1070)   float32   \n",
      " 73  MOD.OUT 22.1    1 ImageHDU       100   (1132, 1070)   float32   \n",
      " 74  MOD.OUT 22.2    1 ImageHDU       100   (1132, 1070)   float32   \n",
      " 75  MOD.OUT 22.3    1 ImageHDU       100   (1132, 1070)   float32   \n",
      " 76  MOD.OUT 22.4    1 ImageHDU       100   (1132, 1070)   float32   \n",
      " 77  MOD.OUT 23.1    1 ImageHDU       100   (1132, 1070)   float32   \n",
      " 78  MOD.OUT 23.2    1 ImageHDU       100   (1132, 1070)   float32   \n",
      " 79  MOD.OUT 23.3    1 ImageHDU       100   (1132, 1070)   float32   \n",
      " 80  MOD.OUT 23.4    1 ImageHDU       100   (1132, 1070)   float32   \n",
      " 81  MOD.OUT 24.1    1 ImageHDU       100   (1132, 1070)   float32   \n",
      " 82  MOD.OUT 24.2    1 ImageHDU       100   (1132, 1070)   float32   \n",
      " 83  MOD.OUT 24.3    1 ImageHDU       100   (1132, 1070)   float32   \n",
      " 84  MOD.OUT 24.4    1 ImageHDU       100   (1132, 1070)   float32   \n"
     ]
    }
   ],
   "source": [
    "filename = \"./mastDownload/KeplerFFI/kplr2009170043915_84/kplr2009170043915_ffi-cal.fits\"\n",
    "fits.info(filename)"
   ]
  },
  {
   "cell_type": "code",
   "execution_count": 52,
   "metadata": {},
   "outputs": [
    {
     "name": "stdout",
     "output_type": "stream",
     "text": [
      "BITPIX  =                  -32 / array data type                                \n",
      "NAXIS   =                    2 / NAXIS                                          \n",
      "NAXIS1  =                 1132 / length of first array dimension                \n",
      "NAXIS2  =                 1070 / length of second array dimension               \n",
      "PCOUNT  =                    0 / group parameter count (not used)               \n",
      "GCOUNT  =                    1 / group count (not used)                         \n",
      "INHERIT =                    T / inherit the primary header                     \n",
      "EXTNAME = 'MOD.OUT 2.1'        / name of extension                              \n",
      "EXTVER  =                    1 / extension version number (not format version)  \n",
      "TELESCOP= 'Kepler  '           / telescope                                      \n",
      "INSTRUME= 'Kepler Photometer'  / detector type                                  \n",
      "CHANNEL =                    1 / CCD channel                                    \n",
      "SKYGROUP=                   81 / roll-independent location of channel           \n",
      "MODULE  =                    2 / CCD module                                     \n",
      "OUTPUT  =                    1 / CCD output                                     \n",
      "TIMEREF = 'SOLARSYSTEM'        / barycentric correction applied to times        \n",
      "TASSIGN = 'SPACECRAFT'         / where time is assigned                         \n",
      "TIMESYS = 'TDB     '           / time system is barycentric JD                  \n",
      "MJDSTART=       55001.17349214 / [d] start of observation in spacecraft MJD     \n",
      "MJDEND  =        55001.1939257 / [d] end of observation in spacecraft MJD       \n",
      "BJDREFI =              2454833 / integer part of BJD reference date             \n",
      "BJDREFF =           0.00000000 / fraction of the day in BJD reference date      \n",
      "TIMEUNIT= 'd       '           / time unit for TIME, TSTART and TSTOP           \n",
      "TSTART  =         168.67667104 / observation start time in BJD-BJDREF           \n"
     ]
    }
   ],
   "source": [
    "with fits.open(filename) as hdulist: \n",
    "    header1 = hdulist[1].header\n",
    "  \n",
    "print(repr(header1[1:25]))"
   ]
  },
  {
   "cell_type": "markdown",
   "metadata": {},
   "source": [
    "## Displaying Image Data"
   ]
  },
  {
   "cell_type": "code",
   "execution_count": 53,
   "metadata": {},
   "outputs": [
    {
     "name": "stdout",
     "output_type": "stream",
     "text": [
      "WCSAXES =                    2 / number of WCS axes                             \n",
      "CTYPE1  = 'RA---TAN-SIP'       / Gnomonic projection + SIP distortions          \n",
      "CTYPE2  = 'DEC--TAN-SIP'       / Gnomonic projection + SIP distortions          \n",
      "CRVAL1  =    290.4620065226813 / RA at CRPIX1, CRPIX2                           \n",
      "CRVAL2  =    38.32946356799192 / DEC at CRPIX1, CRPIX2                          \n",
      "CRPIX1  =                533.0 / X reference pixel                              \n",
      "CRPIX2  =                521.0 / Y reference pixel                              \n"
     ]
    }
   ],
   "source": [
    "with fits.open(filename) as hdulist: \n",
    "    header1 = hdulist[1].header\n",
    "  \n",
    "print(repr(header1[54:61]))"
   ]
  },
  {
   "cell_type": "code",
   "execution_count": null,
   "metadata": {},
   "outputs": [],
   "source": []
  }
 ],
 "metadata": {
  "kernelspec": {
   "display_name": "Python 3 (ipykernel)",
   "language": "python",
   "name": "python3"
  },
  "language_info": {
   "codemirror_mode": {
    "name": "ipython",
    "version": 3
   },
   "file_extension": ".py",
   "mimetype": "text/x-python",
   "name": "python",
   "nbconvert_exporter": "python",
   "pygments_lexer": "ipython3",
   "version": "3.9.12"
  },
  "orig_nbformat": 4
 },
 "nbformat": 4,
 "nbformat_minor": 2
}
